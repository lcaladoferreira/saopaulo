{
  "nbformat": 4,
  "nbformat_minor": 0,
  "metadata": {
    "colab": {
      "provenance": [],
      "authorship_tag": "ABX9TyO1ZE6YFXt3V8g1QyXzcMTF",
      "include_colab_link": true
    },
    "kernelspec": {
      "name": "python3",
      "display_name": "Python 3"
    },
    "language_info": {
      "name": "python"
    }
  },
  "cells": [
    {
      "cell_type": "markdown",
      "metadata": {
        "id": "view-in-github",
        "colab_type": "text"
      },
      "source": [
        "<a href=\"https://colab.research.google.com/github/lcaladoferreira/saopaulo/blob/master/kaggle_and_webscraping.ipynb\" target=\"_parent\"><img src=\"https://colab.research.google.com/assets/colab-badge.svg\" alt=\"Open In Colab\"/></a>"
      ]
    },
    {
      "cell_type": "code",
      "execution_count": 4,
      "metadata": {
        "colab": {
          "base_uri": "https://localhost:8080/"
        },
        "id": "R9L0uIc_vzCu",
        "outputId": "ac1a5661-890d-44de-9274-975a5ac6d3fb"
      },
      "outputs": [
        {
          "output_type": "stream",
          "name": "stdout",
          "text": [
            "Requirement already satisfied: streamlit in /usr/local/lib/python3.10/dist-packages (1.35.0)\n",
            "Requirement already satisfied: kaggle in /usr/local/lib/python3.10/dist-packages (1.6.14)\n",
            "Requirement already satisfied: pandas in /usr/local/lib/python3.10/dist-packages (2.0.3)\n",
            "Requirement already satisfied: altair<6,>=4.0 in /usr/local/lib/python3.10/dist-packages (from streamlit) (4.2.2)\n",
            "Requirement already satisfied: blinker<2,>=1.0.0 in /usr/lib/python3/dist-packages (from streamlit) (1.4)\n",
            "Requirement already satisfied: cachetools<6,>=4.0 in /usr/local/lib/python3.10/dist-packages (from streamlit) (5.3.3)\n",
            "Requirement already satisfied: click<9,>=7.0 in /usr/local/lib/python3.10/dist-packages (from streamlit) (8.1.7)\n",
            "Requirement already satisfied: numpy<2,>=1.19.3 in /usr/local/lib/python3.10/dist-packages (from streamlit) (1.25.2)\n",
            "Requirement already satisfied: packaging<25,>=16.8 in /usr/local/lib/python3.10/dist-packages (from streamlit) (24.0)\n",
            "Requirement already satisfied: pillow<11,>=7.1.0 in /usr/local/lib/python3.10/dist-packages (from streamlit) (9.4.0)\n",
            "Requirement already satisfied: protobuf<5,>=3.20 in /usr/local/lib/python3.10/dist-packages (from streamlit) (3.20.3)\n",
            "Requirement already satisfied: pyarrow>=7.0 in /usr/local/lib/python3.10/dist-packages (from streamlit) (14.0.2)\n",
            "Requirement already satisfied: requests<3,>=2.27 in /usr/local/lib/python3.10/dist-packages (from streamlit) (2.31.0)\n",
            "Requirement already satisfied: rich<14,>=10.14.0 in /usr/local/lib/python3.10/dist-packages (from streamlit) (13.7.1)\n",
            "Requirement already satisfied: tenacity<9,>=8.1.0 in /usr/local/lib/python3.10/dist-packages (from streamlit) (8.3.0)\n",
            "Requirement already satisfied: toml<2,>=0.10.1 in /usr/local/lib/python3.10/dist-packages (from streamlit) (0.10.2)\n",
            "Requirement already satisfied: typing-extensions<5,>=4.3.0 in /usr/local/lib/python3.10/dist-packages (from streamlit) (4.12.1)\n",
            "Requirement already satisfied: gitpython!=3.1.19,<4,>=3.0.7 in /usr/local/lib/python3.10/dist-packages (from streamlit) (3.1.43)\n",
            "Requirement already satisfied: pydeck<1,>=0.8.0b4 in /usr/local/lib/python3.10/dist-packages (from streamlit) (0.9.1)\n",
            "Requirement already satisfied: tornado<7,>=6.0.3 in /usr/local/lib/python3.10/dist-packages (from streamlit) (6.3.3)\n",
            "Requirement already satisfied: watchdog>=2.1.5 in /usr/local/lib/python3.10/dist-packages (from streamlit) (4.0.1)\n",
            "Requirement already satisfied: six>=1.10 in /usr/local/lib/python3.10/dist-packages (from kaggle) (1.16.0)\n",
            "Requirement already satisfied: certifi>=2023.7.22 in /usr/local/lib/python3.10/dist-packages (from kaggle) (2024.6.2)\n",
            "Requirement already satisfied: python-dateutil in /usr/local/lib/python3.10/dist-packages (from kaggle) (2.8.2)\n",
            "Requirement already satisfied: tqdm in /usr/local/lib/python3.10/dist-packages (from kaggle) (4.66.4)\n",
            "Requirement already satisfied: python-slugify in /usr/local/lib/python3.10/dist-packages (from kaggle) (8.0.4)\n",
            "Requirement already satisfied: urllib3 in /usr/local/lib/python3.10/dist-packages (from kaggle) (2.0.7)\n",
            "Requirement already satisfied: bleach in /usr/local/lib/python3.10/dist-packages (from kaggle) (6.1.0)\n",
            "Requirement already satisfied: pytz>=2020.1 in /usr/local/lib/python3.10/dist-packages (from pandas) (2023.4)\n",
            "Requirement already satisfied: tzdata>=2022.1 in /usr/local/lib/python3.10/dist-packages (from pandas) (2024.1)\n",
            "Requirement already satisfied: entrypoints in /usr/local/lib/python3.10/dist-packages (from altair<6,>=4.0->streamlit) (0.4)\n",
            "Requirement already satisfied: jinja2 in /usr/local/lib/python3.10/dist-packages (from altair<6,>=4.0->streamlit) (3.1.4)\n",
            "Requirement already satisfied: jsonschema>=3.0 in /usr/local/lib/python3.10/dist-packages (from altair<6,>=4.0->streamlit) (4.19.2)\n",
            "Requirement already satisfied: toolz in /usr/local/lib/python3.10/dist-packages (from altair<6,>=4.0->streamlit) (0.12.1)\n",
            "Requirement already satisfied: gitdb<5,>=4.0.1 in /usr/local/lib/python3.10/dist-packages (from gitpython!=3.1.19,<4,>=3.0.7->streamlit) (4.0.11)\n",
            "Requirement already satisfied: charset-normalizer<4,>=2 in /usr/local/lib/python3.10/dist-packages (from requests<3,>=2.27->streamlit) (3.3.2)\n",
            "Requirement already satisfied: idna<4,>=2.5 in /usr/local/lib/python3.10/dist-packages (from requests<3,>=2.27->streamlit) (3.7)\n",
            "Requirement already satisfied: markdown-it-py>=2.2.0 in /usr/local/lib/python3.10/dist-packages (from rich<14,>=10.14.0->streamlit) (3.0.0)\n",
            "Requirement already satisfied: pygments<3.0.0,>=2.13.0 in /usr/local/lib/python3.10/dist-packages (from rich<14,>=10.14.0->streamlit) (2.16.1)\n",
            "Requirement already satisfied: webencodings in /usr/local/lib/python3.10/dist-packages (from bleach->kaggle) (0.5.1)\n",
            "Requirement already satisfied: text-unidecode>=1.3 in /usr/local/lib/python3.10/dist-packages (from python-slugify->kaggle) (1.3)\n",
            "Requirement already satisfied: smmap<6,>=3.0.1 in /usr/local/lib/python3.10/dist-packages (from gitdb<5,>=4.0.1->gitpython!=3.1.19,<4,>=3.0.7->streamlit) (5.0.1)\n",
            "Requirement already satisfied: MarkupSafe>=2.0 in /usr/local/lib/python3.10/dist-packages (from jinja2->altair<6,>=4.0->streamlit) (2.1.5)\n",
            "Requirement already satisfied: attrs>=22.2.0 in /usr/local/lib/python3.10/dist-packages (from jsonschema>=3.0->altair<6,>=4.0->streamlit) (23.2.0)\n",
            "Requirement already satisfied: jsonschema-specifications>=2023.03.6 in /usr/local/lib/python3.10/dist-packages (from jsonschema>=3.0->altair<6,>=4.0->streamlit) (2023.12.1)\n",
            "Requirement already satisfied: referencing>=0.28.4 in /usr/local/lib/python3.10/dist-packages (from jsonschema>=3.0->altair<6,>=4.0->streamlit) (0.35.1)\n",
            "Requirement already satisfied: rpds-py>=0.7.1 in /usr/local/lib/python3.10/dist-packages (from jsonschema>=3.0->altair<6,>=4.0->streamlit) (0.18.1)\n",
            "Requirement already satisfied: mdurl~=0.1 in /usr/local/lib/python3.10/dist-packages (from markdown-it-py>=2.2.0->rich<14,>=10.14.0->streamlit) (0.1.2)\n",
            "Dataset URL: https://www.kaggle.com/datasets/muhammadroshaanriaz/e-commerce-trends-a-guide-to-leveraging-dataset\n",
            "License(s): Apache 2.0\n",
            "Downloading e-commerce-trends-a-guide-to-leveraging-dataset.zip to /content\n",
            "  0% 0.00/21.9k [00:00<?, ?B/s]\n",
            "100% 21.9k/21.9k [00:00<00:00, 41.1MB/s]\n",
            "Archive:  e-commerce-trends-a-guide-to-leveraging-dataset.zip\n",
            "  inflating: ecommerce_product_dataset.csv  \n"
          ]
        },
        {
          "output_type": "stream",
          "name": "stderr",
          "text": [
            "2024-06-11 19:37:46.350 No runtime found, using MemoryCacheStorageManager\n",
            "2024-06-11 19:37:46.360 No runtime found, using MemoryCacheStorageManager\n"
          ]
        },
        {
          "output_type": "execute_result",
          "data": {
            "text/plain": [
              "DeltaGenerator()"
            ]
          },
          "metadata": {},
          "execution_count": 4
        }
      ],
      "source": [
        "# prompt: eu quero um exemplo de dashboard consumindo os dados do kaggle usando o streamlit\n",
        "\n",
        "import streamlit as st\n",
        "\n",
        "# Import necessary libraries\n",
        "import pandas as pd\n",
        "import requests\n",
        "\n",
        "# Define the URL for the Kaggle dataset\n",
        "url = \"https://www.kaggle.com/some_user/some_dataset/download\"\n",
        "\n",
        "# Download the dataset\n",
        "response = requests.get(url)\n",
        "\n",
        "# Load the dataset into a Pandas DataFrame\n",
        "df = pd.read_csv(response.content)\n",
        "\n",
        "# Create a Streamlit app\n",
        "st.title(\"Kaggle Dataset Dashboard\")\n",
        "\n",
        "# Display the DataFrame\n",
        "st.dataframe(df)\n",
        "\n",
        "# Add some charts and visualizations\n",
        "st.bar_chart(df['some_column'])\n",
        "st.line_chart(df['some_other_column'])\n"
      ]
    },
    {
      "cell_type": "code",
      "source": [
        "import pandas as pd\n",
        "from bs4 import BeautifulSoup\n",
        "import requests\n",
        "\n",
        "# Define the URL for the website to be scraped\n",
        "url = \"https://pt.wikipedia.org/wiki/Listas_de_bilion%C3%A1rios\"\n",
        "\n",
        "# Fetch the HTML content of the website\n",
        "response = requests.get(url)\n",
        "\n",
        "# Parse the HTML content using BeautifulSoup\n",
        "soup = BeautifulSoup(response.content, \"html.parser\")\n",
        "\n",
        "# Extract the data from the table\n",
        "table_data = soup.find_all(\"table\")[0]\n",
        "\n",
        "# Create a Pandas DataFrame from the extracted data\n",
        "df = pd.read_html(str(table_data))[0]\n",
        "\n",
        "# Print the DataFrame (or save it to a CSV file)\n",
        "print(df)  # This will display the DataFrame in the console\n",
        "# df.to_csv('billionaires.csv', index=False)  # This will save the data to a CSV file\n",
        "\n",
        "# Analyze the data (optional)\n",
        "# You can now use Pandas functions to analyze the data in the DataFrame\n",
        "# For example, calculate the average age or find the youngest billionaire\n",
        "\n",
        "average_age = df['Idade'].mean()\n",
        "youngest_billionaire = df.loc[df['Idade'].idxmin()]['Nome']\n",
        "\n",
        "print(f\"Média de idade: {average_age:.2f} anos\")\n",
        "print(f\"Bilionário mais jovem: {youngest_billionaire}\")"
      ],
      "metadata": {
        "colab": {
          "base_uri": "https://localhost:8080/"
        },
        "id": "cjMKdbaT4-gW",
        "outputId": "c1ef7920-86d3-4699-9aa0-afed4af5d7a6"
      },
      "execution_count": 21,
      "outputs": [
        {
          "output_type": "stream",
          "name": "stdout",
          "text": [
            "   N.°                       Nome  Fortuna (em bilhões de US$)  Idade  \\\n",
            "0  NaN  Bernard Arnault e família                        211.0     74   \n",
            "1  NaN                  Elon Musk                        180.0     51   \n",
            "2  NaN                 Jeff Bezos                        114.0     59   \n",
            "3  NaN              Larry Ellison                        107.0     78   \n",
            "4  NaN             Warren Buffett                        106.0     92   \n",
            "5  NaN                 Bill Gates                        104.0     67   \n",
            "6  NaN          Michael Bloomberg                         94.5     81   \n",
            "7  NaN      Carlos Slim e família                         93.0     83   \n",
            "8  NaN              Mukesh Ambani                         83.4     65   \n",
            "9  NaN              Steve Ballmer                         80.7     67   \n",
            "\n",
            "        Cidadania                   Origem da fortuna  \n",
            "0          França                                LVMH  \n",
            "1  Estados Unidos                       Tesla, SpaceX  \n",
            "2  Estados Unidos                              Amazon  \n",
            "3  Estados Unidos                  Oracle Corporation  \n",
            "4  Estados Unidos                  Berkshire Hathaway  \n",
            "5  Estados Unidos                           Microsoft  \n",
            "6  Estados Unidos                      Bloomberg L.P.  \n",
            "7          México  Telmex, América Móvil, Grupo Carso  \n",
            "8           Índia                 Reliance Industries  \n",
            "9  Estados Unidos                           Microsoft  \n",
            "Média de idade: 71.70 anos\n",
            "Bilionário mais jovem: Elon Musk\n"
          ]
        }
      ]
    },
    {
      "cell_type": "code",
      "source": [
        "# Passo 1: Configurar e Baixar os Dados do Kaggle\n",
        "!pip install streamlit pyngrok kaggle\n",
        "import os\n",
        "os.environ['KAGGLE_USERNAME'] = 'leandrocalado'\n",
        "os.environ['KAGGLE_KEY'] = '484aa0a4e8b909cf780ecb71f66d7888'\n",
        "!kaggle datasets download -d muhammadroshaanriaz/e-commerce-trends-a-guide-to-leveraging-dataset\n",
        "!unzip -o e-commerce-trends-a-guide-to-leveraging-dataset.zip\n",
        "\n",
        "# Passo 2: Importar e Exibir os Dados com o Streamlit\n",
        "import streamlit as st\n",
        "import pandas as pd\n",
        "\n",
        "st.title(\"Kaggle Data Dashboard\")\n",
        "df = pd.read_csv(\"ecommerce_product_dataset.csv\")\n",
        "st.write(df)\n"
      ],
      "metadata": {
        "colab": {
          "base_uri": "https://localhost:8080/"
        },
        "id": "bL6fCFJ61M06",
        "outputId": "18061f36-362c-43a0-86ce-350649362741"
      },
      "execution_count": 10,
      "outputs": [
        {
          "output_type": "stream",
          "name": "stdout",
          "text": [
            "Requirement already satisfied: streamlit in /usr/local/lib/python3.10/dist-packages (1.35.0)\n",
            "Requirement already satisfied: pyngrok in /usr/local/lib/python3.10/dist-packages (7.1.6)\n",
            "Requirement already satisfied: kaggle in /usr/local/lib/python3.10/dist-packages (1.6.14)\n",
            "Requirement already satisfied: altair<6,>=4.0 in /usr/local/lib/python3.10/dist-packages (from streamlit) (4.2.2)\n",
            "Requirement already satisfied: blinker<2,>=1.0.0 in /usr/lib/python3/dist-packages (from streamlit) (1.4)\n",
            "Requirement already satisfied: cachetools<6,>=4.0 in /usr/local/lib/python3.10/dist-packages (from streamlit) (5.3.3)\n",
            "Requirement already satisfied: click<9,>=7.0 in /usr/local/lib/python3.10/dist-packages (from streamlit) (8.1.7)\n",
            "Requirement already satisfied: numpy<2,>=1.19.3 in /usr/local/lib/python3.10/dist-packages (from streamlit) (1.25.2)\n",
            "Requirement already satisfied: packaging<25,>=16.8 in /usr/local/lib/python3.10/dist-packages (from streamlit) (24.0)\n",
            "Requirement already satisfied: pandas<3,>=1.3.0 in /usr/local/lib/python3.10/dist-packages (from streamlit) (2.0.3)\n",
            "Requirement already satisfied: pillow<11,>=7.1.0 in /usr/local/lib/python3.10/dist-packages (from streamlit) (9.4.0)\n",
            "Requirement already satisfied: protobuf<5,>=3.20 in /usr/local/lib/python3.10/dist-packages (from streamlit) (3.20.3)\n",
            "Requirement already satisfied: pyarrow>=7.0 in /usr/local/lib/python3.10/dist-packages (from streamlit) (14.0.2)\n",
            "Requirement already satisfied: requests<3,>=2.27 in /usr/local/lib/python3.10/dist-packages (from streamlit) (2.31.0)\n",
            "Requirement already satisfied: rich<14,>=10.14.0 in /usr/local/lib/python3.10/dist-packages (from streamlit) (13.7.1)\n",
            "Requirement already satisfied: tenacity<9,>=8.1.0 in /usr/local/lib/python3.10/dist-packages (from streamlit) (8.3.0)\n",
            "Requirement already satisfied: toml<2,>=0.10.1 in /usr/local/lib/python3.10/dist-packages (from streamlit) (0.10.2)\n",
            "Requirement already satisfied: typing-extensions<5,>=4.3.0 in /usr/local/lib/python3.10/dist-packages (from streamlit) (4.12.1)\n",
            "Requirement already satisfied: gitpython!=3.1.19,<4,>=3.0.7 in /usr/local/lib/python3.10/dist-packages (from streamlit) (3.1.43)\n",
            "Requirement already satisfied: pydeck<1,>=0.8.0b4 in /usr/local/lib/python3.10/dist-packages (from streamlit) (0.9.1)\n",
            "Requirement already satisfied: tornado<7,>=6.0.3 in /usr/local/lib/python3.10/dist-packages (from streamlit) (6.3.3)\n",
            "Requirement already satisfied: watchdog>=2.1.5 in /usr/local/lib/python3.10/dist-packages (from streamlit) (4.0.1)\n",
            "Requirement already satisfied: PyYAML>=5.1 in /usr/local/lib/python3.10/dist-packages (from pyngrok) (6.0.1)\n",
            "Requirement already satisfied: six>=1.10 in /usr/local/lib/python3.10/dist-packages (from kaggle) (1.16.0)\n",
            "Requirement already satisfied: certifi>=2023.7.22 in /usr/local/lib/python3.10/dist-packages (from kaggle) (2024.6.2)\n",
            "Requirement already satisfied: python-dateutil in /usr/local/lib/python3.10/dist-packages (from kaggle) (2.8.2)\n",
            "Requirement already satisfied: tqdm in /usr/local/lib/python3.10/dist-packages (from kaggle) (4.66.4)\n",
            "Requirement already satisfied: python-slugify in /usr/local/lib/python3.10/dist-packages (from kaggle) (8.0.4)\n",
            "Requirement already satisfied: urllib3 in /usr/local/lib/python3.10/dist-packages (from kaggle) (2.0.7)\n",
            "Requirement already satisfied: bleach in /usr/local/lib/python3.10/dist-packages (from kaggle) (6.1.0)\n",
            "Requirement already satisfied: entrypoints in /usr/local/lib/python3.10/dist-packages (from altair<6,>=4.0->streamlit) (0.4)\n",
            "Requirement already satisfied: jinja2 in /usr/local/lib/python3.10/dist-packages (from altair<6,>=4.0->streamlit) (3.1.4)\n",
            "Requirement already satisfied: jsonschema>=3.0 in /usr/local/lib/python3.10/dist-packages (from altair<6,>=4.0->streamlit) (4.19.2)\n",
            "Requirement already satisfied: toolz in /usr/local/lib/python3.10/dist-packages (from altair<6,>=4.0->streamlit) (0.12.1)\n",
            "Requirement already satisfied: gitdb<5,>=4.0.1 in /usr/local/lib/python3.10/dist-packages (from gitpython!=3.1.19,<4,>=3.0.7->streamlit) (4.0.11)\n",
            "Requirement already satisfied: pytz>=2020.1 in /usr/local/lib/python3.10/dist-packages (from pandas<3,>=1.3.0->streamlit) (2023.4)\n",
            "Requirement already satisfied: tzdata>=2022.1 in /usr/local/lib/python3.10/dist-packages (from pandas<3,>=1.3.0->streamlit) (2024.1)\n",
            "Requirement already satisfied: charset-normalizer<4,>=2 in /usr/local/lib/python3.10/dist-packages (from requests<3,>=2.27->streamlit) (3.3.2)\n",
            "Requirement already satisfied: idna<4,>=2.5 in /usr/local/lib/python3.10/dist-packages (from requests<3,>=2.27->streamlit) (3.7)\n",
            "Requirement already satisfied: markdown-it-py>=2.2.0 in /usr/local/lib/python3.10/dist-packages (from rich<14,>=10.14.0->streamlit) (3.0.0)\n",
            "Requirement already satisfied: pygments<3.0.0,>=2.13.0 in /usr/local/lib/python3.10/dist-packages (from rich<14,>=10.14.0->streamlit) (2.16.1)\n",
            "Requirement already satisfied: webencodings in /usr/local/lib/python3.10/dist-packages (from bleach->kaggle) (0.5.1)\n",
            "Requirement already satisfied: text-unidecode>=1.3 in /usr/local/lib/python3.10/dist-packages (from python-slugify->kaggle) (1.3)\n",
            "Requirement already satisfied: smmap<6,>=3.0.1 in /usr/local/lib/python3.10/dist-packages (from gitdb<5,>=4.0.1->gitpython!=3.1.19,<4,>=3.0.7->streamlit) (5.0.1)\n",
            "Requirement already satisfied: MarkupSafe>=2.0 in /usr/local/lib/python3.10/dist-packages (from jinja2->altair<6,>=4.0->streamlit) (2.1.5)\n",
            "Requirement already satisfied: attrs>=22.2.0 in /usr/local/lib/python3.10/dist-packages (from jsonschema>=3.0->altair<6,>=4.0->streamlit) (23.2.0)\n",
            "Requirement already satisfied: jsonschema-specifications>=2023.03.6 in /usr/local/lib/python3.10/dist-packages (from jsonschema>=3.0->altair<6,>=4.0->streamlit) (2023.12.1)\n",
            "Requirement already satisfied: referencing>=0.28.4 in /usr/local/lib/python3.10/dist-packages (from jsonschema>=3.0->altair<6,>=4.0->streamlit) (0.35.1)\n",
            "Requirement already satisfied: rpds-py>=0.7.1 in /usr/local/lib/python3.10/dist-packages (from jsonschema>=3.0->altair<6,>=4.0->streamlit) (0.18.1)\n",
            "Requirement already satisfied: mdurl~=0.1 in /usr/local/lib/python3.10/dist-packages (from markdown-it-py>=2.2.0->rich<14,>=10.14.0->streamlit) (0.1.2)\n",
            "Dataset URL: https://www.kaggle.com/datasets/muhammadroshaanriaz/e-commerce-trends-a-guide-to-leveraging-dataset\n",
            "License(s): Apache 2.0\n",
            "e-commerce-trends-a-guide-to-leveraging-dataset.zip: Skipping, found more recently modified local copy (use --force to force download)\n",
            "Archive:  e-commerce-trends-a-guide-to-leveraging-dataset.zip\n",
            "  inflating: ecommerce_product_dataset.csv  \n"
          ]
        }
      ]
    },
    {
      "cell_type": "code",
      "source": [
        "import streamlit as st\n",
        "import pandas as pd\n",
        "\n",
        "st.title(\"Kaggle Data Dashboard\")\n",
        "\n",
        "# Adicione esta linha para verificar se o arquivo foi baixado corretamente\n",
        "import os\n",
        "print(os.listdir())  # Isso deve listar os arquivos no diretório atual\n",
        "\n",
        "# Vamos tentar carregar o arquivo manualmente para ver se há algum problema\n",
        "df = pd.read_csv(\"ecommerce_product_dataset.csv\")\n",
        "st.write(df)\n"
      ],
      "metadata": {
        "colab": {
          "base_uri": "https://localhost:8080/"
        },
        "id": "wP_FHfJR3oBI",
        "outputId": "557839f4-a9f0-4f84-a9b7-3023a58cbdb9"
      },
      "execution_count": 14,
      "outputs": [
        {
          "output_type": "stream",
          "name": "stdout",
          "text": [
            "['.config', 'kaggle.json', 'nohup.out', 'ecommerce_product_dataset.csv', 'app.py', 'e-commerce-trends-a-guide-to-leveraging-dataset.zip', 'sample_data']\n"
          ]
        }
      ]
    },
    {
      "cell_type": "code",
      "source": [
        "import os\n",
        "\n",
        "# Verificando o diretório atual\n",
        "print(os.listdir())"
      ],
      "metadata": {
        "colab": {
          "base_uri": "https://localhost:8080/"
        },
        "id": "NbvK-M9o4OAc",
        "outputId": "fc47c340-b3f1-4eef-940f-e01fef9f086c"
      },
      "execution_count": 15,
      "outputs": [
        {
          "output_type": "stream",
          "name": "stdout",
          "text": [
            "['.config', 'kaggle.json', 'nohup.out', 'ecommerce_product_dataset.csv', 'app.py', 'e-commerce-trends-a-guide-to-leveraging-dataset.zip', 'sample_data']\n"
          ]
        }
      ]
    },
    {
      "cell_type": "code",
      "source": [
        "import pandas as pd\n",
        "\n",
        "# Ler o arquivo CSV\n",
        "df = pd.read_csv(\"ecommerce_product_dataset.csv\")\n",
        "\n",
        "# Exibir os dados\n",
        "print(df)\n"
      ],
      "metadata": {
        "colab": {
          "base_uri": "https://localhost:8080/"
        },
        "id": "9-kcFm5I4SgJ",
        "outputId": "c2713608-2b89-47ad-aec4-066764d40ed8"
      },
      "execution_count": 18,
      "outputs": [
        {
          "output_type": "stream",
          "name": "stdout",
          "text": [
            "     ProductID       ProductName     Category   Price  Rating  NumReviews  \\\n",
            "0            1        Headphones  Electronics  400.31     1.7        3772   \n",
            "1            2        Headphones  Electronics  235.03     2.3        2919   \n",
            "2            3        Smartwatch  Electronics  417.90     1.8        1184   \n",
            "3            4        Smartphone  Electronics  152.70     3.4        2047   \n",
            "4            5            Laptop  Electronics  394.74     1.8        1267   \n",
            "..         ...               ...          ...     ...     ...         ...   \n",
            "995        996     Throw Blanket     Blankets  207.72     2.3        1973   \n",
            "996        997    Fleece Blanket     Blankets  268.60     3.2         841   \n",
            "997        998     Throw Blanket     Blankets   92.74     2.8        3454   \n",
            "998        999  Weighted Blanket     Blankets  152.28     1.3        2850   \n",
            "999       1000     Throw Blanket     Blankets  136.53     2.0        4055   \n",
            "\n",
            "     StockQuantity  Discount  Sales   DateAdded  \n",
            "0               20      0.08    466  2023-11-08  \n",
            "1              663      0.33   1332  2023-09-26  \n",
            "2              459      0.31    252  2023-10-18  \n",
            "3              475      0.49   1806  2023-12-03  \n",
            "4              831      0.23   1508  2023-08-08  \n",
            "..             ...       ...    ...         ...  \n",
            "995             16      0.46    325  2024-02-11  \n",
            "996            201      0.39   1546  2023-06-29  \n",
            "997            880      0.02   1295  2023-10-27  \n",
            "998            752      0.34   1962  2023-10-26  \n",
            "999            282      0.38   1089  2024-01-25  \n",
            "\n",
            "[1000 rows x 10 columns]\n"
          ]
        }
      ]
    },
    {
      "cell_type": "code",
      "source": [
        "import pandas as pd\n",
        "from bs4 import BeautifulSoup\n",
        "import requests\n",
        "\n",
        "# Define the URL for the website to be scraped\n",
        "url = \"https://pt.wikipedia.org/wiki/Listas_de_bilion%C3%A1rios\"\n",
        "\n",
        "# Fetch the HTML content of the website\n",
        "response = requests.get(url)\n",
        "\n",
        "# Parse the HTML content using BeautifulSoup\n",
        "soup = BeautifulSoup(response.content, \"html.parser\")\n",
        "\n",
        "# Extract the data from the table\n",
        "table_data = soup.find_all(\"table\")[0]\n",
        "\n",
        "# Create a Pandas DataFrame from the extracted data\n",
        "df = pd.read_html(str(table_data))[0]\n",
        "\n",
        "# Print the DataFrame (or save it to a CSV file)\n",
        "print(df)  # This will display the DataFrame in the console\n",
        "# df.to_csv('billionaires.csv', index=False)  # This will save the data to a CSV file\n",
        "\n",
        "# Ensure 'Idade' column is numeric\n",
        "df['Idade'] = pd.to_numeric(df['Idade'], errors='coerce')\n",
        "\n",
        "# Analyze the data\n",
        "average_age = df['Idade'].mean()\n",
        "youngest_billionaire_age = df['Idade'].min()\n",
        "youngest_billionaire_name = df.loc[df['Idade'].idxmin(), 'Nome']\n",
        "\n",
        "print(f\"Média de idade: {average_age:.2f} anos\")\n",
        "print(f\"Idade do bilionário mais jovem: {youngest_billionaire_age} anos\")\n",
        "print(f\"Bilionário mais jovem: {youngest_billionaire_name}\")\n"
      ],
      "metadata": {
        "colab": {
          "base_uri": "https://localhost:8080/"
        },
        "id": "o2W5Tw8zEqTZ",
        "outputId": "337fa699-4a3e-4b7e-f69e-315759ce5dd5"
      },
      "execution_count": 23,
      "outputs": [
        {
          "output_type": "stream",
          "name": "stdout",
          "text": [
            "   N.°                       Nome  Fortuna (em bilhões de US$)  Idade  \\\n",
            "0  NaN  Bernard Arnault e família                        211.0     74   \n",
            "1  NaN                  Elon Musk                        180.0     51   \n",
            "2  NaN                 Jeff Bezos                        114.0     59   \n",
            "3  NaN              Larry Ellison                        107.0     78   \n",
            "4  NaN             Warren Buffett                        106.0     92   \n",
            "5  NaN                 Bill Gates                        104.0     67   \n",
            "6  NaN          Michael Bloomberg                         94.5     81   \n",
            "7  NaN      Carlos Slim e família                         93.0     83   \n",
            "8  NaN              Mukesh Ambani                         83.4     65   \n",
            "9  NaN              Steve Ballmer                         80.7     67   \n",
            "\n",
            "        Cidadania                   Origem da fortuna  \n",
            "0          França                                LVMH  \n",
            "1  Estados Unidos                       Tesla, SpaceX  \n",
            "2  Estados Unidos                              Amazon  \n",
            "3  Estados Unidos                  Oracle Corporation  \n",
            "4  Estados Unidos                  Berkshire Hathaway  \n",
            "5  Estados Unidos                           Microsoft  \n",
            "6  Estados Unidos                      Bloomberg L.P.  \n",
            "7          México  Telmex, América Móvil, Grupo Carso  \n",
            "8           Índia                 Reliance Industries  \n",
            "9  Estados Unidos                           Microsoft  \n",
            "Média de idade: 71.70 anos\n",
            "Idade do bilionário mais jovem: 51 anos\n",
            "Bilionário mais jovem: Elon Musk\n"
          ]
        }
      ]
    }
  ]
}